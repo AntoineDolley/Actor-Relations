{
 "cells": [
  {
   "cell_type": "code",
   "execution_count": null,
   "metadata": {},
   "outputs": [],
   "source": [
    "import requests\n",
    "import pandas as pd\n",
    "import time\n",
    "\n",
    "# URL de l'API IMDb\n",
    "url = \"https://graph.imdbapi.dev/v1\"\n",
    "\n",
    "nodes_df = pd.read_csv('data/nodes_1980_to_2000.csv')"
   ]
  },
  {
   "cell_type": "code",
   "execution_count": 3,
   "metadata": {},
   "outputs": [],
   "source": [
    "def get_actor_nationality(actor_id):\n",
    "    query = f\"\"\"\n",
    "    query {{\n",
    "        name(id: \"{actor_id}\") {{\n",
    "            id\n",
    "            display_name\n",
    "            birth_location\n",
    "        }}\n",
    "    }}\n",
    "    \"\"\"\n",
    "    response = requests.post(url, json={'query': query})\n",
    "    \n",
    "    if response.status_code == 200:\n",
    "        data = response.json()\n",
    "        try:\n",
    "            return data['data']['name']['birth_location']\n",
    "        except KeyError:\n",
    "            return \"Inconnu\"\n",
    "    else:\n",
    "        print(f\"Erreur {response.status_code} pour l'ID {actor_id}\")\n",
    "        return \"Inconnu\""
   ]
  },
  {
   "cell_type": "code",
   "execution_count": 7,
   "metadata": {},
   "outputs": [],
   "source": [
    "def get_country_from_location(location):\n",
    "    if location:\n",
    "        # Extraire le pays (dernier élément après la dernière virgule)\n",
    "        return location.split(\",\")[-1].strip()\n",
    "    return \"Inconnu\""
   ]
  },
  {
   "cell_type": "code",
   "execution_count": null,
   "metadata": {},
   "outputs": [],
   "source": [
    "\n",
    "# Ajouter une nouvelle colonne pour la nationalité\n",
    "nationalities = []\n",
    "\n",
    "# Récupérer la nationalité pour chaque acteur\n",
    "for idx, row in nodes_df.iterrows():\n",
    "    if row['category'] == 'actor':\n",
    "        try: \n",
    "            actor_id = row['Id']\n",
    "            nationality = get_country_from_location(get_actor_nationality(actor_id))\n",
    "            nationalities.append(nationality)\n",
    "            \n",
    "            # Pause pour éviter de surcharger l'API\n",
    "            time.sleep(0.01)\n",
    "        except Exception as e:\n",
    "            print(f\"Erreur pour l'acteur {actor_id}: {e}\")\n",
    "            nationalities.append(\"Inconnu\")\n",
    "    else:\n",
    "        # Pour les non-acteurs, ajouter une valeur vide ou par défaut\n",
    "        nationalities.append(\"Inconnu\")\n",
    "\n",
    "# Ajouter les nationalités au DataFrame\n",
    "nodes_df['Nationality'] = nationalities\n",
    "\n",
    "# Sauvegarder le fichier enrichi\n",
    "nodes_df.to_csv('enriched/enriched_nodes_1980_to_2000.csv', index=False)\n",
    "\n",
    "print(\"Données enrichies avec les nationalités et fichier sauvegardé.\")\n"
   ]
  }
 ],
 "metadata": {
  "kernelspec": {
   "display_name": "Python 3",
   "language": "python",
   "name": "python3"
  },
  "language_info": {
   "codemirror_mode": {
    "name": "ipython",
    "version": 3
   },
   "file_extension": ".py",
   "mimetype": "text/x-python",
   "name": "python",
   "nbconvert_exporter": "python",
   "pygments_lexer": "ipython3",
   "version": "3.11.9"
  }
 },
 "nbformat": 4,
 "nbformat_minor": 2
}

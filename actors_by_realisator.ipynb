{
 "cells": [
  {
   "cell_type": "markdown",
   "metadata": {},
   "source": [
    "# Actors relationship by realisator\n",
    "The goal here is to visualize the relationship of actors by seeing if they worked with the same realisator\n",
    "\n",
    "#### 1/Preparation des données"
   ]
  },
  {
   "cell_type": "code",
   "execution_count": 6,
   "metadata": {},
   "outputs": [
    {
     "name": "stdout",
     "output_type": "stream",
     "text": [
      "          Id  category           Label\n",
      "0  nm0317813     actor      Manuel Gil\n",
      "1  nm0243749     actor   Antonio Durán\n",
      "2  nm0649892     actor      José Orjas\n",
      "3  nm0649563  director  Juan de Orduña\n",
      "4  nm0720019    writer   Enrique Reoyo\n",
      "      Source     Target      Label  Weight\n",
      "0  nm0243749  nm0317813  tt0031458       1\n",
      "1  nm0317813  nm0649892  tt0031458       1\n",
      "2  nm0317813  nm0649563  tt0031458       1\n",
      "3  nm0317813  nm0720019  tt0031458       1\n",
      "4  nm0317813  nm0524001  tt0031458       1\n"
     ]
    }
   ],
   "source": [
    "import pandas as pd\n",
    "import matplotlib.pyplot as plt\n",
    "import networkx as nx\n",
    "from itertools import combinations\n",
    "\n",
    "nodes_df = pd.read_csv('data/nodes_1960_to_1980.csv')\n",
    "edges_df = pd.read_csv('data/edges_1960_to_1980.csv')\n",
    "\n",
    "print(nodes_df.head())\n",
    "print(edges_df.head())"
   ]
  },
  {
   "cell_type": "code",
   "execution_count": 7,
   "metadata": {},
   "outputs": [],
   "source": [
    "actors = nodes_df[nodes_df['category'] == 'actor']\n",
    "directors = nodes_df[nodes_df['category'] == 'director']\n",
    "\n",
    "\n",
    "# Filtrer les arêtes pour ne garder que celles reliant les acteurs aux réalisateurs\n",
    "actor_director_edges = edges_df[\n",
    "    edges_df['Source'].isin(actors['Id']) & edges_df['Target'].isin(directors['Id'])\n",
    "]"
   ]
  },
  {
   "cell_type": "code",
   "execution_count": 8,
   "metadata": {},
   "outputs": [],
   "source": [
    "# Construire une dictionnaire où chaque réalisateur est lié à une liste des acteurs ayant travaillé avec lui\n",
    "director_to_actors = {}\n",
    "for _, row in actor_director_edges.iterrows():\n",
    "    director = row['Target']\n",
    "    actor = row['Source']\n",
    "    \n",
    "    if director not in director_to_actors:\n",
    "        director_to_actors[director] = set()\n",
    "    director_to_actors[director].add(actor)"
   ]
  },
  {
   "cell_type": "code",
   "execution_count": 9,
   "metadata": {},
   "outputs": [],
   "source": [
    "# Créer des arêtes entre acteurs ayant collaboré avec le même réalisateur\n",
    "actor_pairs = {}\n",
    "for actors_set in director_to_actors.values():\n",
    "    # Créer toutes les paires possibles d'acteurs ayant travaillé avec le même réalisateur\n",
    "    for actor1, actor2 in combinations(actors_set, 2):\n",
    "        # Trier les paires pour éviter les doublons\n",
    "        pair = tuple(sorted([actor1, actor2]))\n",
    "        \n",
    "        # Ajouter ou incrémenter le poids de la connexion\n",
    "        if pair not in actor_pairs:\n",
    "            actor_pairs[pair] = 0\n",
    "        actor_pairs[pair] += 1"
   ]
  },
  {
   "cell_type": "code",
   "execution_count": 10,
   "metadata": {},
   "outputs": [],
   "source": [
    "# Construire le graphe\n",
    "G = nx.Graph()\n",
    "\n",
    "# Ajouter les nœuds (uniquement les acteurs)\n",
    "for actor_id in actors['Id']:\n",
    "    actor_label = actors[actors['Id'] == actor_id]['Label'].values[0]\n",
    "    G.add_node(actor_id, label=actor_label)\n",
    "\n",
    "# Ajouter les arêtes avec le poids correspondant\n",
    "for (actor1, actor2), weight in actor_pairs.items():\n",
    "    G.add_edge(actor1, actor2, weight=weight)"
   ]
  },
  {
   "cell_type": "code",
   "execution_count": null,
   "metadata": {},
   "outputs": [
    {
     "name": "stdout",
     "output_type": "stream",
     "text": [
      "Les fichiers CSV pour Gephi ont été exportés avec succès.\n"
     ]
    }
   ],
   "source": [
    "# Exporter les données pour Gephi\n",
    "# Export des nœuds\n",
    "nodes_export = pd.DataFrame([(n, G.nodes[n]['label']) for n in G.nodes], columns=['Id', 'Label'])\n",
    "nodes_export.to_csv('gephi/gephi_actors_nodes.csv', index=False)\n",
    "\n",
    "# Export des arêtes\n",
    "edges_export = pd.DataFrame([(u, v, G[u][v]['weight']) for u, v in G.edges], columns=['Source', 'Target', 'Weight'])\n",
    "edges_export.to_csv('gephi/gephi_actors_edges.csv', index=False)\n",
    "\n",
    "print(\"Les fichiers CSV pour Gephi ont été exportés avec succès.\")"
   ]
  }
 ],
 "metadata": {
  "kernelspec": {
   "display_name": "Python 3",
   "language": "python",
   "name": "python3"
  },
  "language_info": {
   "codemirror_mode": {
    "name": "ipython",
    "version": 3
   },
   "file_extension": ".py",
   "mimetype": "text/x-python",
   "name": "python",
   "nbconvert_exporter": "python",
   "pygments_lexer": "ipython3",
   "version": "3.11.9"
  }
 },
 "nbformat": 4,
 "nbformat_minor": 2
}
